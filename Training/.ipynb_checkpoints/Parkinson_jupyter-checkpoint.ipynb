{
 "cells": [
  {
   "cell_type": "code",
   "execution_count": 2,
   "id": "183b2f3b",
   "metadata": {},
   "outputs": [],
   "source": [
    "from sklearn.ensemble import RandomForestClassifier\n",
    "from sklearn.preprocessing import LabelEncoder\n",
    "from sklearn.metrics import confusion_matrix\n",
    "from skimage import feature\n",
    "from imutils import build_montages\n",
    "from imutils import paths\n",
    "import numpy as np\n",
    "import cv2\n",
    "import os\n",
    "import pickle    #importing the pickle file"
   ]
  },
  {
   "cell_type": "code",
   "execution_count": 4,
   "id": "562975a9",
   "metadata": {},
   "outputs": [],
   "source": [
    "def quantify_image(image):\n",
    "\t# compute the histogram of oriented gradients feature vector for\n",
    "\t# the input image\n",
    "\tfeatures = feature.hog(image, orientations=9,\n",
    "\t\tpixels_per_cell=(10, 10), cells_per_block=(2, 2),\n",
    "\t\ttransform_sqrt=True, block_norm=\"L1\")\n",
    "\n",
    "\t# return the feature vector\n",
    "\treturn features"
   ]
  },
  {
   "cell_type": "code",
   "execution_count": 5,
   "id": "7bbf387f",
   "metadata": {},
   "outputs": [],
   "source": [
    "def load_split(path):\n",
    "\t# grab the list of images in the input directory, then initialize\n",
    "\t# the list of data (i.e., images) and class labels\n",
    "\timagePaths = list(paths.list_images(path))\n",
    "\tdata = []\n",
    "\tlabels = []\n",
    "\n",
    "\t# loop over the image paths\n",
    "\tfor imagePath in imagePaths:\n",
    "\t\t# extract the class label from the filename\n",
    "\t\tlabel = imagePath.split(os.path.sep)[-2]\n",
    "\n",
    "\t\t# load the input image, convert it to grayscale, and resize\n",
    "\t\t# it to 200x200 pixels, ignoring aspect ratio\n",
    "\t\timage = cv2.imread(imagePath)\n",
    "\t\timage = cv2.cvtColor(image, cv2.COLOR_BGR2GRAY)\n",
    "\t\timage = cv2.resize(image, (200, 200))\n",
    "\n",
    "\t\t# threshold the image such that the drawing appears as white\n",
    "\t\t# on a black background\n",
    "\t\timage = cv2.threshold(image, 0, 255,\n",
    "\t\t\tcv2.THRESH_BINARY_INV | cv2.THRESH_OTSU)[1]\n",
    "\n",
    "\t\t# quantify the image\n",
    "\t\tfeatures = quantify_image(image)\n",
    "\n",
    "\t\t# update the data and labels lists, respectively\n",
    "\t\tdata.append(features)\n",
    "\t\tlabels.append(label)\n",
    "\n",
    "\t# return the data and labels\n",
    "\treturn (np.array(data), np.array(labels))"
   ]
  },
  {
   "cell_type": "code",
   "execution_count": 6,
   "id": "21d6aeb5",
   "metadata": {},
   "outputs": [],
   "source": [
    "# define the path to the training and testing directories\n",
    "trainingPath = r\"..\\dataset\\spiral\\training\"\n",
    "testingPath = r\"..\\dataset\\spiral\\testing\""
   ]
  },
  {
   "cell_type": "code",
   "execution_count": 7,
   "id": "e6ea89f6",
   "metadata": {},
   "outputs": [
    {
     "name": "stdout",
     "output_type": "stream",
     "text": [
      "[INFO] loading data...\n"
     ]
    }
   ],
   "source": [
    "# loading the training and testing data\n",
    "print(\"[INFO] loading data...\")\n",
    "(X_train, y_train) = load_split(trainingPath)\n",
    "(X_test, y_test) = load_split(testingPath)\n"
   ]
  },
  {
   "cell_type": "code",
   "execution_count": 9,
   "id": "17de55bf",
   "metadata": {},
   "outputs": [
    {
     "name": "stdout",
     "output_type": "stream",
     "text": [
      "(72, 12996) (72,)\n"
     ]
    }
   ],
   "source": [
    " #encode the labels as integers\n",
    "le = LabelEncoder()\n",
    "y_train = le.fit_transform(y_train)\n",
    "y_test = le.transform(y_test)\n",
    "print(X_train.shape,y_train.shape)"
   ]
  },
  {
   "cell_type": "code",
   "execution_count": 10,
   "id": "5a066b1e",
   "metadata": {},
   "outputs": [
    {
     "name": "stdout",
     "output_type": "stream",
     "text": [
      "[INFO] training model\n"
     ]
    }
   ],
   "source": [
    "# Train the model using random forest classifier\n",
    "\n",
    "print(\"[INFO] training model\")\n",
    "model = RandomForestClassifier(n_estimators=100)\n",
    "model.fit(X_train, y_train)\n",
    "pickle.dump(model,open('parkinson1.pkl','wb')) "
   ]
  },
  {
   "cell_type": "code",
   "execution_count": 11,
   "id": "7495cc6d",
   "metadata": {},
   "outputs": [
    {
     "name": "stdout",
     "output_type": "stream",
     "text": [
      "[14  1  3 12]\n",
      "0.8666666666666667\n"
     ]
    }
   ],
   "source": [
    "\t# make predictions on the testing data \n",
    "predictions = model.predict(X_test)\n",
    "\t# compute the confusion matrix and and use it to derive the raw\n",
    "\t# accuracy\n",
    "cm = confusion_matrix(y_test, predictions).flatten()\n",
    "print(cm)\n",
    "(tn, fp, fn, tp) = cm\n",
    "accuracy = (tp + tn) / float(cm.sum())\n",
    "print(accuracy)\n"
   ]
  },
  {
   "cell_type": "code",
   "execution_count": 12,
   "id": "80b99c99",
   "metadata": {},
   "outputs": [],
   "source": [
    "# randomly select a few images and then initialize the output images\n",
    "# for the montage\n",
    "testingPaths = list(paths.list_images(testingPath))\n",
    "idxs = np.arange(0, len(testingPaths))\n",
    "idxs = np.random.choice(idxs, size=(25,), replace=False)\n",
    "images = []"
   ]
  },
  {
   "cell_type": "code",
   "execution_count": 13,
   "id": "5e349a85",
   "metadata": {},
   "outputs": [],
   "source": [
    "# loop over the testing samples\n",
    "for i in idxs:\n",
    "\t# load the testing image, clone it, and resize it\n",
    "\timage = cv2.imread(testingPaths[i])\n",
    "\toutput = image.copy()\n",
    "\toutput = cv2.resize(output, (128, 128))\n",
    "\n",
    "\t# pre-process the image in the same manner we did earlier\n",
    "\timage = cv2.cvtColor(image, cv2.COLOR_BGR2GRAY)\n",
    "\timage = cv2.resize(image, (200, 200))\n",
    "\timage = cv2.threshold(image, 0, 255,\n",
    "\t\tcv2.THRESH_BINARY_INV | cv2.THRESH_OTSU)[1]\n",
    "\n",
    "\t# quantify the image and make predictions based on the extracted\n",
    "\t# features using the last trained Random Forest\n",
    "\tfeatures = quantify_image(image)\n",
    "\tpreds = model.predict([features])\n",
    "    \n",
    "\tlabel = le.inverse_transform(preds)[0]\n",
    "\n",
    "\t# draw the colored class label on the output image and add it to\n",
    "\t# the set of output images\n",
    "\tcolor = (0, 255, 0) if label == \"healthy\" else (0, 0, 255)\n",
    "\tcv2.putText(output, label, (3, 20), cv2.FONT_HERSHEY_SIMPLEX, 0.5,\n",
    "\t\tcolor, 2)\n",
    "\timages.append(output)"
   ]
  },
  {
   "cell_type": "code",
   "execution_count": 14,
   "id": "e456698c",
   "metadata": {},
   "outputs": [],
   "source": [
    "# create a montage using 128x128 \"tiles\" with 5 rows and 5 columns\n",
    "montage = build_montages(images, (128, 128), (5, 5))[0]"
   ]
  },
  {
   "cell_type": "code",
   "execution_count": 15,
   "id": "c133a236",
   "metadata": {},
   "outputs": [
    {
     "data": {
      "text/plain": [
       "-1"
      ]
     },
     "execution_count": 15,
     "metadata": {},
     "output_type": "execute_result"
    }
   ],
   "source": [
    "# show the output montage\n",
    "cv2.imshow(\"Output\", montage)\n",
    "cv2.waitKey(0)"
   ]
  },
  {
   "cell_type": "code",
   "execution_count": null,
   "id": "63064f58",
   "metadata": {},
   "outputs": [],
   "source": []
  }
 ],
 "metadata": {
  "kernelspec": {
   "display_name": "Python 3 (ipykernel)",
   "language": "python",
   "name": "python3"
  },
  "language_info": {
   "codemirror_mode": {
    "name": "ipython",
    "version": 3
   },
   "file_extension": ".py",
   "mimetype": "text/x-python",
   "name": "python",
   "nbconvert_exporter": "python",
   "pygments_lexer": "ipython3",
   "version": "3.9.12"
  }
 },
 "nbformat": 4,
 "nbformat_minor": 5
}
