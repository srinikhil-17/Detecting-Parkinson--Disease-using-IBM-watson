{
 "cells": [
  {
   "cell_type": "code",
   "execution_count": 1,
   "id": "17a1de5f",
   "metadata": {},
   "outputs": [],
   "source": [
    "from sklearn.ensemble import RandomForestClassifier\n",
    "from sklearn.preprocessing import LabelEncoder\n",
    "from sklearn.metrics import confusion_matrix\n",
    "from skimage import feature\n",
    "from imutils import build_montages\n",
    "from imutils import paths\n",
    "import numpy as np\n",
    "import cv2\n",
    "import os\n",
    "import pickle    #importing the pickle file"
   ]
  },
  {
   "cell_type": "code",
   "execution_count": 2,
   "id": "35b62ed9",
   "metadata": {},
   "outputs": [],
   "source": [
    "def quantify_image(image):\n",
    "    # compute the histogram of oriented gradients feature vector for\n",
    "    # the input image\n",
    "    features = feature.hog(image, orientations=9,\n",
    "        pixels_per_cell=(10, 10), cells_per_block=(2, 2),\n",
    "        transform_sqrt=True, block_norm=\"L1\")\n",
    "\n",
    "    # return the feature vector\n",
    "    return features"
   ]
  },
  {
   "cell_type": "code",
   "execution_count": 3,
   "id": "8c842114",
   "metadata": {},
   "outputs": [],
   "source": [
    "def load_split(path):\n",
    "    # grab the list of images in the input directory, then initialize\n",
    "    # the list of data (i.e., images) and class labels\n",
    "    imagePaths = list(paths.list_images(path))\n",
    "    data = []\n",
    "    labels = []\n",
    "\n",
    "    # loop over the image paths\n",
    "    for imagePath in imagePaths:\n",
    "    # extract the class label from the filename\n",
    "    label = imagePath.split(os.path.sep)[-2]\n",
    "\n",
    "    # load the input image, convert it to grayscale, and resize\n",
    "    # it to 200x200 pixels, ignoring aspect ratio\n",
    "    image = cv2.imread(imagePath)\n",
    "    image = cv2.cvtColor(image, cv2.COLOR_BGR2GRAY)\n",
    "    image = cv2.resize(image, (200, 200))\n",
    "\n",
    "    # threshold the image such that the drawing appears as white\n",
    "    # on a black background\n",
    "        image = cv2.threshold(image, 0, 255,\n",
    "            cv2.THRESH_BINARY_INV | cv2.THRESH_OTSU)[1]\n",
    "\n",
    "        # quantify the image\n",
    "        features = quantify_image(image)\n",
    "\n",
    "        # update the data and labels lists, respectively\n",
    "        data.append(features)\n",
    "        labels.append(label)\n",
    "\n",
    "    # return the data and labels\n",
    "    return (np.array(data), np.array(labels))"
   ]
  },
  {
   "cell_type": "code",
   "execution_count": 4,
   "id": "72522525",
   "metadata": {},
   "outputs": [],
   "source": [
    "# define the path to the training and testing directories\n",
    "trainingPath = r\"..\\dataset\\spiral\\training\"\n",
    "testingPath = r\"..\\dataset\\spiral\\testing\""
   ]
  },
  {
   "cell_type": "code",
   "execution_count": 5,
   "id": "acf0d3b2",
   "metadata": {},
   "outputs": [
    {
     "name": "stdout",
     "output_type": "stream",
     "text": [
      "[INFO] loading data...\n"
     ]
    }
   ],
   "source": [
    "# loading the training and testing data\n",
    "print(\"[INFO] loading data...\")\n",
    "(X_train, y_train) = load_split(trainingPath)\n",
    "(X_test, y_test) = load_split(testingPath)\n"
   ]
  },
  {
   "cell_type": "code",
   "execution_count": 6,
   "id": "d19d5ccd",
   "metadata": {},
   "outputs": [
    {
     "name": "stdout",
     "output_type": "stream",
     "text": [
      "(72, 12996) (72,)\n"
     ]
    }
   ],
   "source": [
    " #encode the labels as integers\n",
    "le = LabelEncoder()\n",
    "y_train = le.fit_transform(y_train)\n",
    "y_test = le.transform(y_test)\n",
    "print(X_train.shape,y_train.shape)"
   ]
  },
  {
   "cell_type": "code",
   "execution_count": 7,
   "id": "719f84c1",
   "metadata": {},
   "outputs": [
    {
     "name": "stdout",
     "output_type": "stream",
     "text": [
      "[INFO] training model\n"
     ]
    }
   ],
   "source": [
    "# Train the model using random forest classifier\n",
    "\n",
    "print(\"[INFO] training model\")\n",
    "model = RandomForestClassifier(n_estimators=100)\n",
    "model.fit(X_train, y_train)\n",
    "pickle.dump(model,open('parkinson1.pkl','wb')) "
   ]
  },
  {
   "cell_type": "code",
   "execution_count": 8,
   "id": "52b17425",
   "metadata": {},
   "outputs": [
    {
     "name": "stdout",
     "output_type": "stream",
     "text": [
      "[13  2  3 12]\n",
      "0.8333333333333334\n"
     ]
    }
   ],
   "source": [
    "    # make predictions on the testing data \n",
    "predictions = model.predict(X_test)\n",
    "    # compute the confusion matrix and and use it to derive the raw\n",
    "    # accuracy\n",
    "cm = confusion_matrix(y_test, predictions).flatten()\n",
    "print(cm)\n",
    "(tn, fp, fn, tp) = cm\n",
    "accuracy = (tp + tn) / float(cm.sum())\n",
    "print(accuracy)\n"
   ]
  },
  {
   "cell_type": "code",
   "execution_count": 9,
   "id": "af16c07d",
   "metadata": {},
   "outputs": [],
   "source": [
    "# randomly select a few images and then initialize the output images\n",
    "# for the montage\n",
    "testingPaths = list(paths.list_images(testingPath))\n",
    "idxs = np.arange(0, len(testingPaths))\n",
    "idxs = np.random.choice(idxs, size=(25,), replace=False)\n",
    "images = []"
   ]
  },
  {
   "cell_type": "code",
   "execution_count": 10,
   "id": "c3243270",
   "metadata": {},
   "outputs": [],
   "source": [
    "# loop over the testing samples\n",
    "for i in idxs:\n",
    "    # load the testing image, clone it, and resize it\n",
    "    image = cv2.imread(testingPaths[i])\n",
    "    output = image.copy()\n",
    "    output = cv2.resize(output, (128, 128))\n",
    "\n",
    "    # pre-process the image in the same manner we did earlier\n",
    "    image = cv2.cvtColor(image, cv2.COLOR_BGR2GRAY)\n",
    "    image = cv2.resize(image, (200, 200))\n",
    "    image = cv2.threshold(image, 0, 255,\n",
    "        cv2.THRESH_BINARY_INV | cv2.THRESH_OTSU)[1]\n",
    "\n",
    "    # quantify the image and make predictions based on the extracted\n",
    "    # features using the last trained Random Forest\n",
    "    features = quantify_image(image)\n",
    "    preds = model.predict([features])\n",
    "    \n",
    "    label = le.inverse_transform(preds)[0]\n",
    "\n",
    "    # draw the colored class label on the output image and add it to\n",
    "    # the set of output images\n",
    "    color = (0, 255, 0) if label == \"healthy\" else (0, 0, 255)\n",
    "    cv2.putText(output, label, (3, 20), cv2.FONT_HERSHEY_SIMPLEX, 0.5,\n",
    "        color, 2)\n",
    "    images.append(output)"
   ]
  },
  {
   "cell_type": "code",
   "execution_count": 11,
   "id": "259576d6",
   "metadata": {},
   "outputs": [],
   "source": [
    "# create a montage using 128x128 \"tiles\" with 5 rows and 5 columns\n",
    "montage = build_montages(images, (128, 128), (5, 5))[0]"
   ]
  },
  {
   "cell_type": "code",
   "execution_count": 12,
   "id": "55dff1c5",
   "metadata": {},
   "outputs": [
    {
     "data": {
      "text/plain": [
       "13"
      ]
     },
     "execution_count": 12,
     "metadata": {},
     "output_type": "execute_result"
    }
   ],
   "source": [
    "# show the output montage\n",
    "cv2.imshow(\"Output\", montage)\n",
    "cv2.waitKey(0)"
   ]
  },
  {
   "cell_type": "code",
   "execution_count": null,
   "id": "53886e3c",
   "metadata": {},
   "outputs": [],
   "source": []
  }
 ],
 "metadata": {
  "kernelspec": {
   "display_name": "Python 3 (ipykernel)",
   "language": "python",
   "name": "python3"
  },
  "language_info": {
   "codemirror_mode": {
    "name": "ipython",
    "version": 3
   },
   "file_extension": ".py",
   "mimetype": "text/x-python",
   "name": "python",
   "nbconvert_exporter": "python",
   "pygments_lexer": "ipython3",
   "version": "3.9.12"
  }
 },
 "nbformat": 4,
 "nbformat_minor": 5
}
